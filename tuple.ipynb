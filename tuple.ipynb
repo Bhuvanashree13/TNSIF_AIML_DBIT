{
 "cells": [
  {
   "cell_type": "markdown",
   "id": "9c40deff",
   "metadata": {},
   "source": [
    "Tuples - A sequence of value and it is indexed by a integer. We can't change the elements in the tuple."
   ]
  },
  {
   "cell_type": "code",
   "execution_count": 1,
   "id": "a8debf3f",
   "metadata": {},
   "outputs": [
    {
     "name": "stdout",
     "output_type": "stream",
     "text": [
      "('hello', 13, 3.14, True)\n"
     ]
    }
   ],
   "source": [
    "tuple1 = (\"hello\",13, 3.14, True)\n",
    "print(tuple1)"
   ]
  },
  {
   "cell_type": "code",
   "execution_count": 5,
   "id": "3cc649ac",
   "metadata": {},
   "outputs": [
    {
     "name": "stdout",
     "output_type": "stream",
     "text": [
      "(1,)\n",
      "<class 'tuple'>\n"
     ]
    }
   ],
   "source": [
    "tupl2 = (1,)\n",
    "print(tupl2)\n",
    "print(type(tupl2))"
   ]
  },
  {
   "cell_type": "code",
   "execution_count": 4,
   "id": "b6483ad7",
   "metadata": {},
   "outputs": [
    {
     "name": "stdout",
     "output_type": "stream",
     "text": [
      "1\n",
      "<class 'int'>\n"
     ]
    }
   ],
   "source": [
    "tup3 = (1)\n",
    "print(tup3)\n",
    "print(type(tup3))"
   ]
  },
  {
   "cell_type": "code",
   "execution_count": 7,
   "id": "a02108d8",
   "metadata": {},
   "outputs": [
    {
     "name": "stdout",
     "output_type": "stream",
     "text": [
      "()\n",
      "<class 'tuple'>\n"
     ]
    }
   ],
   "source": [
    "tup = ()\n",
    "print(tup)\n",
    "print(type(tup))"
   ]
  },
  {
   "cell_type": "code",
   "execution_count": 8,
   "id": "d7844bbd",
   "metadata": {},
   "outputs": [
    {
     "name": "stdout",
     "output_type": "stream",
     "text": [
      "(1, 2, 3, 4)\n"
     ]
    }
   ],
   "source": [
    "tuple2 = tuple([1, 2, 3, 4])\n",
    "print(tuple2)\n"
   ]
  },
  {
   "cell_type": "code",
   "execution_count": 13,
   "id": "baaeecf5",
   "metadata": {},
   "outputs": [
    {
     "name": "stdout",
     "output_type": "stream",
     "text": [
      "(1, 2, 3, 4, 5, 6)\n",
      "(1, 2, 3, 4, 5, 6, 10)\n"
     ]
    }
   ],
   "source": [
    "t1 = (1,2,3,4,5)\n",
    "t2 = t1 + (6,)  # without a comma, it will not be a tuple\n",
    "print(t2)\n",
    "t2 += (10,)\n",
    "print(t2)\n"
   ]
  },
  {
   "cell_type": "code",
   "execution_count": null,
   "id": "62721afc",
   "metadata": {},
   "outputs": [],
   "source": [
    "#Write a python program to input ‘n’ employee salaries and find the minimum and maximum salary amongst ‘n’ employees\n",
    "number_of_employees = int(input(\"Enter number of employees: \"))\n",
    "salaries = ()\n",
    "for i in range(number_of_employees):\n",
    "    salary = float(input(\"Enter salary of a employee: \"))\n",
    "    salaries = salaries + (salary,)\n",
    "print(\"Salaries of employees:\", salaries)\n",
    "print(\"Minimum salary:\", min(salaries))\n",
    "print(\"Maximum salary:\", max(salaries))"
   ]
  }
 ],
 "metadata": {
  "kernelspec": {
   "display_name": "Python 3",
   "language": "python",
   "name": "python3"
  },
  "language_info": {
   "codemirror_mode": {
    "name": "ipython",
    "version": 3
   },
   "file_extension": ".py",
   "mimetype": "text/x-python",
   "name": "python",
   "nbconvert_exporter": "python",
   "pygments_lexer": "ipython3",
   "version": "3.13.5"
  }
 },
 "nbformat": 4,
 "nbformat_minor": 5
}
