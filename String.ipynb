{
 "cells": [
  {
   "cell_type": "code",
   "execution_count": 1,
   "id": "70bda7c7",
   "metadata": {},
   "outputs": [
    {
     "name": "stdout",
     "output_type": "stream",
     "text": [
      "Hello, World!\n"
     ]
    }
   ],
   "source": [
    "print(\"Hello, World!\")"
   ]
  },
  {
   "cell_type": "code",
   "execution_count": 5,
   "id": "024862c3",
   "metadata": {},
   "outputs": [
    {
     "name": "stdout",
     "output_type": "stream",
     "text": [
      "You entered: Bhuvana\n"
     ]
    }
   ],
   "source": [
    "input_str = input(\"Enter a string: \")\n",
    "print(\"You entered:\", input_str)"
   ]
  },
  {
   "cell_type": "code",
   "execution_count": 14,
   "id": "f4f3cac1",
   "metadata": {},
   "outputs": [
    {
     "name": "stdout",
     "output_type": "stream",
     "text": [
      "hello,i am bhuvanashree s!\n"
     ]
    }
   ],
   "source": [
    "#String Operations\n",
    "s = \"Hello,I am Bhuvanashree S!\"\n",
    "print(s.lower())          # Convert to lowercase"
   ]
  },
  {
   "cell_type": "code",
   "execution_count": 15,
   "id": "9e50b1e8",
   "metadata": {},
   "outputs": [
    {
     "name": "stdout",
     "output_type": "stream",
     "text": [
      "HELLO,I AM BHUVANASHREE S!\n"
     ]
    }
   ],
   "source": [
    "print(s.upper())  "
   ]
  },
  {
   "cell_type": "code",
   "execution_count": 16,
   "id": "72bc828a",
   "metadata": {},
   "outputs": [
    {
     "name": "stdout",
     "output_type": "stream",
     "text": [
      "Jello,I am Bhuvanashree S!\n"
     ]
    }
   ],
   "source": [
    "print(s.replace(\"H\", \"J\"))  # Replace 'H' with 'J'"
   ]
  },
  {
   "cell_type": "code",
   "execution_count": 17,
   "id": "2d1b3851",
   "metadata": {},
   "outputs": [
    {
     "name": "stdout",
     "output_type": "stream",
     "text": [
      "['Hello', 'I am Bhuvanashree S!']\n"
     ]
    }
   ],
   "source": [
    "print(s.split(\",\"))       # Split the string by comma\n"
   ]
  },
  {
   "cell_type": "code",
   "execution_count": 18,
   "id": "c7c42547",
   "metadata": {},
   "outputs": [
    {
     "name": "stdout",
     "output_type": "stream",
     "text": [
      "Hello,I am Bhuvanashree S!\n"
     ]
    }
   ],
   "source": [
    "print(s.strip())          # Remove leading and trailing whitespace"
   ]
  },
  {
   "cell_type": "code",
   "execution_count": 19,
   "id": "258d8301",
   "metadata": {},
   "outputs": [
    {
     "name": "stdout",
     "output_type": "stream",
     "text": [
      "True\n"
     ]
    }
   ],
   "source": [
    "print(s.startswith(\"Hello\"))  # Check if string starts with \"Hello\""
   ]
  },
  {
   "cell_type": "code",
   "execution_count": 20,
   "id": "d6c4aeb5",
   "metadata": {},
   "outputs": [
    {
     "name": "stdout",
     "output_type": "stream",
     "text": [
      "11\n"
     ]
    }
   ],
   "source": [
    "print(s.find(\"Bhuvanashree\"))  # Find the index of substring \"Bhuvanashree\""
   ]
  },
  {
   "cell_type": "code",
   "execution_count": 21,
   "id": "5312c824",
   "metadata": {},
   "outputs": [
    {
     "name": "stdout",
     "output_type": "stream",
     "text": [
      "26\n"
     ]
    }
   ],
   "source": [
    "print(len(s)) "
   ]
  },
  {
   "cell_type": "code",
   "execution_count": 22,
   "id": "0f27f9e3",
   "metadata": {},
   "outputs": [
    {
     "name": "stdout",
     "output_type": "stream",
     "text": [
      "True\n"
     ]
    }
   ],
   "source": [
    "print(s.endswith(\"!\"))"
   ]
  },
  {
   "cell_type": "code",
   "execution_count": 23,
   "id": "bbd152dd",
   "metadata": {},
   "outputs": [
    {
     "name": "stdout",
     "output_type": "stream",
     "text": [
      "H\n",
      "!\n",
      "Hello\n",
      " am Bhuvanashree S!\n",
      "Hello\n",
      "HloIa hvnsreS\n",
      "!S eerhsanavuhB ma I,olleH\n",
      "eo \n"
     ]
    }
   ],
   "source": [
    "#Indexing and Slicing\n",
    "print(s[0])        # First character    \n",
    "print(s[-1])       # Last character\n",
    "print(s[0:5])     # First five characters\n",
    "print(s[7:])      # Characters from index 7 to end\n",
    "print(s[:5])      # Characters from start to index 5\n",
    "print(s[::2])     # Every second character\n",
    "print(s[::-1])    # Reverse the string\n",
    "print(s[1:10:3])  # Characters from index 1 to 10 with step 3"
   ]
  },
  {
   "cell_type": "code",
   "execution_count": 24,
   "id": "4312f6ef",
   "metadata": {},
   "outputs": [
    {
     "name": "stdout",
     "output_type": "stream",
     "text": [
      "Hello, Alice!\n"
     ]
    }
   ],
   "source": [
    "#Functions\n",
    "def greet(name):\n",
    "    return \"Hello, \" + name + \"!\"   \n",
    "print(greet(\"Alice\"))   \n"
   ]
  },
  {
   "cell_type": "code",
   "execution_count": null,
   "id": "22ce2727",
   "metadata": {},
   "outputs": [],
   "source": []
  }
 ],
 "metadata": {
  "kernelspec": {
   "display_name": "Python 3",
   "language": "python",
   "name": "python3"
  },
  "language_info": {
   "codemirror_mode": {
    "name": "ipython",
    "version": 3
   },
   "file_extension": ".py",
   "mimetype": "text/x-python",
   "name": "python",
   "nbconvert_exporter": "python",
   "pygments_lexer": "ipython3",
   "version": "3.13.7"
  }
 },
 "nbformat": 4,
 "nbformat_minor": 5
}
