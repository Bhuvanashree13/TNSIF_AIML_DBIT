{
 "cells": [
  {
   "cell_type": "code",
   "execution_count": null,
   "id": "8b051c83",
   "metadata": {},
   "outputs": [
    {
     "name": "stdout",
     "output_type": "stream",
     "text": [
      "{'John': 9876543210, 'Alice': 8765432109, 'Bob': 7654321098}\n"
     ]
    }
   ],
   "source": [
    "#Basics of Dictionary in Python\n",
    "phonebook = {\"John\": 9876543210, \"Alice\": 8765432109, \"Bob\": 7654321098}\n",
    "print(phonebook)"
   ]
  },
  {
   "cell_type": "code",
   "execution_count": 9,
   "id": "8573495d",
   "metadata": {},
   "outputs": [
    {
     "name": "stdout",
     "output_type": "stream",
     "text": [
      "8765432109\n"
     ]
    }
   ],
   "source": [
    "print(phonebook[\"Alice\"])  # Accessing value using key"
   ]
  },
  {
   "cell_type": "code",
   "execution_count": 10,
   "id": "e48647d6",
   "metadata": {},
   "outputs": [
    {
     "name": "stdout",
     "output_type": "stream",
     "text": [
      "<class 'dict'>\n"
     ]
    }
   ],
   "source": [
    "print(type(phonebook))  # To check the data type"
   ]
  },
  {
   "cell_type": "code",
   "execution_count": 11,
   "id": "eab7b2a8",
   "metadata": {},
   "outputs": [
    {
     "name": "stdout",
     "output_type": "stream",
     "text": [
      "3\n"
     ]
    }
   ],
   "source": [
    "print(len(phonebook))   # To check the length of the dictionary"
   ]
  },
  {
   "cell_type": "code",
   "execution_count": 12,
   "id": "9cf6b6ce",
   "metadata": {},
   "outputs": [
    {
     "name": "stdout",
     "output_type": "stream",
     "text": [
      "9876543210\n"
     ]
    }
   ],
   "source": [
    "print(phonebook[\"John\"])  # Accessing value using key"
   ]
  },
  {
   "cell_type": "code",
   "execution_count": 14,
   "id": "0a203bb0",
   "metadata": {},
   "outputs": [
    {
     "name": "stdout",
     "output_type": "stream",
     "text": [
      "{'John': 9876543210, 'Alice': 8765432109, 'Bob': 7654321098, 'Eve': 6543210987}\n"
     ]
    }
   ],
   "source": [
    "phonebook[\"Eve\"] = 6543210987  # Adding a new key-value pair\n",
    "print(phonebook)"
   ]
  },
  {
   "cell_type": "code",
   "execution_count": 16,
   "id": "06a985bf",
   "metadata": {},
   "outputs": [
    {
     "name": "stdout",
     "output_type": "stream",
     "text": [
      "Bob's phone number is 7654321098\n"
     ]
    }
   ],
   "source": [
    "user_name = input(\"Enter the name of the user to search:\")\n",
    "if user_name in phonebook:\n",
    "    print(f\"{user_name}'s phone number is {phonebook[user_name]}\")\n",
    "else:\n",
    "    print(\"User not found.\")"
   ]
  },
  {
   "cell_type": "code",
   "execution_count": 7,
   "id": "d4ed8e11",
   "metadata": {},
   "outputs": [
    {
     "name": "stdout",
     "output_type": "stream",
     "text": [
      "Employee Name and Number: {'Ram': '101', 'Raj': '102'}\n"
     ]
    }
   ],
   "source": [
    "#Write a program to input ‘n’ employee numbers and names and store them in a dictionary. Display dictionaries employee’s names(key) and numbers(values) together.\n",
    "number_of_employee = int(input(\"Enter number of employees: \"))\n",
    "employee_dict = {}\n",
    "for i in range(number_of_employee):\n",
    "    employee_name = input(\"Enter employee name : \")\n",
    "    employee_number = input(\"Enter employee number :\")\n",
    "    employee_dict[employee_name] = employee_number\n",
    "print(\"Employee Name and Number:\",employee_dict)"
   ]
  },
  {
   "cell_type": "code",
   "execution_count": 5,
   "id": "b81cc39a",
   "metadata": {},
   "outputs": [
    {
     "name": "stdout",
     "output_type": "stream",
     "text": [
      "User not founnd\n",
      "{'Ram': 9864543546, 'Shyam': 9876543210, 'Sita': 9988776655, 'Mohan': 1234567890}\n"
     ]
    }
   ],
   "source": [
    "phonebook = {\"Ram\": 9864543546, \"Shyam\": 9876543210, \"Sita\": 9988776655}\n",
    "user_name = input(\"Enter the name of the user:\")\n",
    "if user_name in phonebook:\n",
    "    new_number = int(input(\"Enter the new phone number: \"))\n",
    "    phonebook[user_name] = new_number\n",
    "    print(\"Phone number is updated successfully.\")\n",
    "else:\n",
    "    print(\"User not founnd\")\n",
    "phonebook[\"Mohan\"] = 1234567890\n",
    "print(phonebook)\n",
    "user_name1 = input(\"Enter the name of the user to delete:\")\n",
    "if user_name1 in phonebook:\n",
    "    del phonebook[user_name1]\n",
    "    print(\"User deleted successfully.\")"
   ]
  }
 ],
 "metadata": {
  "kernelspec": {
   "display_name": "Python 3",
   "language": "python",
   "name": "python3"
  },
  "language_info": {
   "codemirror_mode": {
    "name": "ipython",
    "version": 3
   },
   "file_extension": ".py",
   "mimetype": "text/x-python",
   "name": "python",
   "nbconvert_exporter": "python",
   "pygments_lexer": "ipython3",
   "version": "3.13.7"
  }
 },
 "nbformat": 4,
 "nbformat_minor": 5
}
