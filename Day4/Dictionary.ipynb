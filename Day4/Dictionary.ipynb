{
 "cells": [
  {
   "cell_type": "code",
   "execution_count": null,
   "id": "d4ed8e11",
   "metadata": {},
   "outputs": [
    {
     "name": "stdout",
     "output_type": "stream",
     "text": [
      "Employee Name and Number: {'Bhuvana': '7548493745', 'Shivu': '7235943636'}\n"
     ]
    }
   ],
   "source": [
    "#Write a program to input ‘n’ employee numbers and names and store them in a dictionary. Display dictionaries employee’s names(key) and numbers(values) together.\n",
    "\n",
    "number_of_employee = int(input(\"Enter number of employees: \"))\n",
    "employee_dict = {}\n",
    "for i in range(number_of_employee):\n",
    "    employee_name = input(\"Enter employee name : \")\n",
    "    employee_number = input(\"Enter employee number :\")\n",
    "    employee_dict[employee_name] = employee_number\n",
    "print(\"Employee Name and Number:\",employee_dict)\n"
   ]
  },
  {
   "cell_type": "code",
   "execution_count": null,
   "id": "b81cc39a",
   "metadata": {},
   "outputs": [],
   "source": []
  }
 ],
 "metadata": {
  "kernelspec": {
   "display_name": "Python 3",
   "language": "python",
   "name": "python3"
  },
  "language_info": {
   "codemirror_mode": {
    "name": "ipython",
    "version": 3
   },
   "file_extension": ".py",
   "mimetype": "text/x-python",
   "name": "python",
   "nbconvert_exporter": "python",
   "pygments_lexer": "ipython3",
   "version": "3.13.5"
  }
 },
 "nbformat": 4,
 "nbformat_minor": 5
}
