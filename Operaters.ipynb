{
 "cells": [
  {
   "cell_type": "code",
   "execution_count": 1,
   "id": "04d5f911",
   "metadata": {},
   "outputs": [
    {
     "name": "stdout",
     "output_type": "stream",
     "text": [
      "The sum of 5 and 9 is 14\n"
     ]
    }
   ],
   "source": [
    "#Sum\n",
    "number1 = int(input(\"Enter first number: \"))\n",
    "number2 = int(input(\"Enter second number: \"))\n",
    "sum = number1 + number2\n",
    "print(\"The sum of {0} and {1} is {2}\".format(number1, number2, sum))"
   ]
  },
  {
   "cell_type": "code",
   "execution_count": 2,
   "id": "021b498b",
   "metadata": {},
   "outputs": [
    {
     "name": "stdout",
     "output_type": "stream",
     "text": [
      "The difference of 5 and 9 is -4\n"
     ]
    }
   ],
   "source": [
    "#Difference\n",
    "difference = number1 - number2\n",
    "print(\"The difference of {0} and {1} is {2}\".format(number1, number2, difference))"
   ]
  },
  {
   "cell_type": "code",
   "execution_count": 3,
   "id": "b138e57d",
   "metadata": {},
   "outputs": [
    {
     "name": "stdout",
     "output_type": "stream",
     "text": [
      "The product of 5 and 9 is 45\n",
      "The quotient of 5 and 9 is 0.5555555555555556\n",
      "The remainder of 5 and 9 is 5\n",
      "The exponent of 5 and 9 is 1953125\n",
      "The floor division of 5 and 9 is 0\n"
     ]
    }
   ],
   "source": [
    "#Product\n",
    "product = number1 * number2\n",
    "print(\"The product of {0} and {1} is {2}\".format(number1, number2, product))\n",
    "#Quotient\n",
    "quotient = number1 / number2\n",
    "print(\"The quotient of {0} and {1} is {2}\".format(number1, number2, quotient))\n",
    "#Remainder\n",
    "remainder = number1 % number2\n",
    "print(\"The remainder of {0} and {1} is {2}\".format(number1, number2, remainder))\n",
    "#Exponent\n",
    "exponent = number1 ** number2\n",
    "print(\"The exponent of {0} and {1} is {2}\".format(number1, number2, exponent))\n",
    "#Floor Division\n",
    "floor_division = number1 // number2\n",
    "print(\"The floor division of {0} and {1} is {2}\".format(number1, number2, floor_division))"
   ]
  },
  {
   "cell_type": "code",
   "execution_count": 4,
   "id": "c151c785",
   "metadata": {},
   "outputs": [
    {
     "name": "stdout",
     "output_type": "stream",
     "text": [
      "AND OPERATORS\n",
      "False\n",
      "True\n",
      "False\n",
      "False\n",
      "OR OPERATORS\n",
      "True\n",
      "True\n",
      "False\n",
      "True\n",
      "NOT OPERATORS\n",
      "False\n",
      "True\n"
     ]
    }
   ],
   "source": [
    "#AND OPERATORS\n",
    "print(\"AND OPERATORS\")\n",
    "a = True\n",
    "b = False\n",
    "print(a and b)\n",
    "print(a and a)\n",
    "print(b and b)\n",
    "print(b and a)\n",
    "\n",
    "#OR OPERATORS\n",
    "print(\"OR OPERATORS\")\n",
    "a = True\n",
    "b = False\n",
    "print(a or b)\n",
    "print(a or a)\n",
    "print(b or b)\n",
    "print(b or a)\n",
    "\n",
    "#NOT OPERATORS\n",
    "print(\"NOT OPERATORS\")\n",
    "a = True\n",
    "b = False\n",
    "print(not a)\n",
    "print(not b)\n"
   ]
  },
  {
   "cell_type": "code",
   "execution_count": null,
   "id": "2720b654",
   "metadata": {},
   "outputs": [],
   "source": []
  }
 ],
 "metadata": {
  "kernelspec": {
   "display_name": "Python 3",
   "language": "python",
   "name": "python3"
  },
  "language_info": {
   "codemirror_mode": {
    "name": "ipython",
    "version": 3
   },
   "file_extension": ".py",
   "mimetype": "text/x-python",
   "name": "python",
   "nbconvert_exporter": "python",
   "pygments_lexer": "ipython3",
   "version": "3.13.7"
  }
 },
 "nbformat": 4,
 "nbformat_minor": 5
}
