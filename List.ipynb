{
 "cells": [
  {
   "cell_type": "code",
   "execution_count": 16,
   "id": "5d9f3269",
   "metadata": {},
   "outputs": [
    {
     "name": "stdout",
     "output_type": "stream",
     "text": [
      "Original List: [1, 2, 3, 4, 5]\n"
     ]
    }
   ],
   "source": [
    "#Basics of Lists in Python\n",
    "#Creating a list\n",
    "my_list = [1, 2, 3, 4, 5]\n",
    "print(\"Original List:\", my_list)"
   ]
  },
  {
   "cell_type": "code",
   "execution_count": 17,
   "id": "7d9ed1e3",
   "metadata": {},
   "outputs": [
    {
     "name": "stdout",
     "output_type": "stream",
     "text": [
      "First Element: 1\n",
      "Last Element: 5\n"
     ]
    }
   ],
   "source": [
    "#Accessing elements\n",
    "print(\"First Element:\", my_list[0])\n",
    "print(\"Last Element:\", my_list[-1])"
   ]
  },
  {
   "cell_type": "code",
   "execution_count": 18,
   "id": "74a22fe8",
   "metadata": {},
   "outputs": [
    {
     "name": "stdout",
     "output_type": "stream",
     "text": [
      "Modified List: [1, 2, 10, 4, 5]\n"
     ]
    }
   ],
   "source": [
    "#Modifying elements\n",
    "my_list[2] = 10\n",
    "print(\"Modified List:\", my_list)"
   ]
  },
  {
   "cell_type": "code",
   "execution_count": 19,
   "id": "ed6555e5",
   "metadata": {},
   "outputs": [
    {
     "name": "stdout",
     "output_type": "stream",
     "text": [
      "List after append: [1, 2, 10, 4, 5, 6]\n",
      "List after insert: [0, 1, 2, 10, 4, 5, 6]\n"
     ]
    }
   ],
   "source": [
    "#Adding elements\n",
    "my_list.append(6)\n",
    "print(\"List after append:\", my_list)\n",
    "my_list.insert(0, 0)\n",
    "print(\"List after insert:\", my_list)"
   ]
  },
  {
   "cell_type": "code",
   "execution_count": 20,
   "id": "20a0818c",
   "metadata": {},
   "outputs": [
    {
     "name": "stdout",
     "output_type": "stream",
     "text": [
      "List after remove: [0, 1, 2, 4, 5, 6]\n"
     ]
    }
   ],
   "source": [
    "#Removing elements\n",
    "my_list.remove(10)\n",
    "print(\"List after remove:\", my_list)\n"
   ]
  },
  {
   "cell_type": "code",
   "execution_count": 21,
   "id": "bc1d7d58",
   "metadata": {},
   "outputs": [
    {
     "name": "stdout",
     "output_type": "stream",
     "text": [
      "Popped Element: 6\n",
      "List after pop: [0, 1, 2, 4, 5]\n"
     ]
    }
   ],
   "source": [
    "#Popping elements\n",
    "popped_element = my_list.pop()\n",
    "print(\"Popped Element:\", popped_element)\n",
    "print(\"List after pop:\", my_list)"
   ]
  },
  {
   "cell_type": "code",
   "execution_count": 22,
   "id": "a27af83b",
   "metadata": {},
   "outputs": [
    {
     "name": "stdout",
     "output_type": "stream",
     "text": [
      "Sliced List (1:4): [1, 2, 4]\n",
      "Sliced List (start to 3): [0, 1, 2]\n",
      "Sliced List (3 to end): [4, 5]\n",
      "Sliced List (every 2nd element): [0, 2, 5]\n"
     ]
    }
   ],
   "source": [
    "#Indexing and Slicing\n",
    "print(\"Sliced List (1:4):\", my_list[1:4])\n",
    "print(\"Sliced List (start to 3):\", my_list[:3])\n",
    "print(\"Sliced List (3 to end):\", my_list[3:])\n",
    "print(\"Sliced List (every 2nd element):\", my_list[::2])"
   ]
  },
  {
   "cell_type": "code",
   "execution_count": 23,
   "id": "d8fa21fe",
   "metadata": {},
   "outputs": [
    {
     "name": "stdout",
     "output_type": "stream",
     "text": [
      "Squared List using Comprehension: [0, 1, 4, 16, 25]\n"
     ]
    }
   ],
   "source": [
    "#List Comprehensions\n",
    "squared_list = [x**2 for x in my_list]\n",
    "print(\"Squared List using Comprehension:\", squared_list)"
   ]
  },
  {
   "cell_type": "code",
   "execution_count": 24,
   "id": "5d3e7b0f",
   "metadata": {},
   "outputs": [
    {
     "name": "stdout",
     "output_type": "stream",
     "text": [
      "Sorted List: [0, 1, 2, 4, 5]\n",
      "Reverse Sorted List: [5, 4, 2, 1, 0]\n"
     ]
    }
   ],
   "source": [
    "#Sorting a list\n",
    "my_list.sort()\n",
    "print(\"Sorted List:\", my_list)\n",
    "my_list.sort(reverse=True)\n",
    "print(\"Reverse Sorted List:\", my_list)"
   ]
  },
  {
   "cell_type": "code",
   "execution_count": 25,
   "id": "b5bc9fdc",
   "metadata": {},
   "outputs": [
    {
     "name": "stdout",
     "output_type": "stream",
     "text": [
      "Length of List: 5\n"
     ]
    }
   ],
   "source": [
    "#Length of a list\n",
    "print(\"Length of List:\", len(my_list))"
   ]
  },
  {
   "cell_type": "code",
   "execution_count": 26,
   "metadata": {},
   "outputs": [
    {
     "name": "stdout",
     "output_type": "stream",
     "text": [
      "List after clear: []\n"
     ]
    }
   ],
   "source": [
    "#Clearing the list\n",
    "my_list.clear()\n",
    "print(\"List after clear:\", my_list)"
   ]
  }
 ],
 "metadata": {
  "kernelspec": {
   "display_name": "Python 3",
   "language": "python",
   "name": "python3"
  },
  "language_info": {
   "codemirror_mode": {
    "name": "ipython",
    "version": 3
   },
   "file_extension": ".py",
   "mimetype": "text/x-python",
   "name": "python",
   "nbconvert_exporter": "python",
   "pygments_lexer": "ipython3",
   "version": "3.13.7"
  }
 },
 "nbformat": 4,
 "nbformat_minor": 5
}
