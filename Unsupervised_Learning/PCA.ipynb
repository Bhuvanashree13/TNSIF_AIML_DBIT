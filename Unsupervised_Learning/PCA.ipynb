{
 "cells": [
  {
   "cell_type": "markdown",
   "id": "f47e627c",
   "metadata": {},
   "source": [
    "PCA - Prinicipal Component Analysis\n",
    "Step 1: Standardize the data mean = 0 & SD =1\n",
    "Step 2 : Calculate Covariance -> Features related\n",
    "Step 3 : Find PCA (most spread -> PC1 , Perpendicular to PC1 -> PC2)\n",
    "Eigen vectors -> Directions\n",
    "Eigen Values -> Important \n",
    "Step 4 : Pick Top Direction & Transform Data\n",
    " "
   ]
  }
 ],
 "metadata": {
  "language_info": {
   "name": "python"
  }
 },
 "nbformat": 4,
 "nbformat_minor": 5
}
